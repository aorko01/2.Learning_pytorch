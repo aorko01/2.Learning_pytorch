{
  "nbformat": 4,
  "nbformat_minor": 0,
  "metadata": {
    "colab": {
      "provenance": [],
      "gpuType": "T4",
      "authorship_tag": "ABX9TyOGzd7muZy0o6amCdsVMF/K",
      "include_colab_link": true
    },
    "kernelspec": {
      "name": "python3",
      "display_name": "Python 3"
    },
    "language_info": {
      "name": "python"
    },
    "accelerator": "GPU"
  },
  "cells": [
    {
      "cell_type": "markdown",
      "metadata": {
        "id": "view-in-github",
        "colab_type": "text"
      },
      "source": [
        "<a href=\"https://colab.research.google.com/github/aorko01/2.Learning_pytorch/blob/main/Tensor.ipynb\" target=\"_parent\"><img src=\"https://colab.research.google.com/assets/colab-badge.svg\" alt=\"Open In Colab\"/></a>"
      ]
    },
    {
      "cell_type": "code",
      "execution_count": null,
      "metadata": {
        "colab": {
          "base_uri": "https://localhost:8080/"
        },
        "id": "ARAIfEsWHtC8",
        "outputId": "0c21cc1b-8686-40c8-98c6-b4a6e6723789"
      },
      "outputs": [
        {
          "output_type": "stream",
          "name": "stdout",
          "text": [
            "2.8.0+cu126\n"
          ]
        }
      ],
      "source": [
        "import torch\n",
        "import pandas as pd\n",
        "import numpy as np\n",
        "import matplotlib.pyplot as plt\n",
        "print(torch.__version__)"
      ]
    },
    {
      "cell_type": "code",
      "source": [
        "#scaler,vecor and matrix all are encoded as tensor\n",
        "#so for using any of these we would be using tensor\n",
        "scaler = torch.tensor(7)\n",
        "scaler"
      ],
      "metadata": {
        "colab": {
          "base_uri": "https://localhost:8080/"
        },
        "id": "hJShddykJjjW",
        "outputId": "83c377a5-58f1-4160-9623-b8537385a883"
      },
      "execution_count": null,
      "outputs": [
        {
          "output_type": "execute_result",
          "data": {
            "text/plain": [
              "tensor(7)"
            ]
          },
          "metadata": {},
          "execution_count": 26
        }
      ]
    },
    {
      "cell_type": "code",
      "source": [
        "scaler.ndim"
      ],
      "metadata": {
        "colab": {
          "base_uri": "https://localhost:8080/"
        },
        "id": "K0jGyLP2FMUN",
        "outputId": "31f00c1f-aee6-4681-b624-d51ddb99b69c"
      },
      "execution_count": null,
      "outputs": [
        {
          "output_type": "execute_result",
          "data": {
            "text/plain": [
              "0"
            ]
          },
          "metadata": {},
          "execution_count": 10
        }
      ]
    },
    {
      "cell_type": "code",
      "source": [
        "scaler.item()"
      ],
      "metadata": {
        "colab": {
          "base_uri": "https://localhost:8080/"
        },
        "id": "R1zoE8IIFPzA",
        "outputId": "08639671-4a08-496a-eb5b-0c5d3c5ec820"
      },
      "execution_count": null,
      "outputs": [
        {
          "output_type": "execute_result",
          "data": {
            "text/plain": [
              "7"
            ]
          },
          "metadata": {},
          "execution_count": 11
        }
      ]
    },
    {
      "cell_type": "code",
      "source": [
        "vector =  torch.tensor([[7,7],[9,0]])\n",
        "vector"
      ],
      "metadata": {
        "colab": {
          "base_uri": "https://localhost:8080/"
        },
        "id": "rdnChmFhFUep",
        "outputId": "27df93d5-76bc-4cf3-b383-60d7a031134a"
      },
      "execution_count": null,
      "outputs": [
        {
          "output_type": "execute_result",
          "data": {
            "text/plain": [
              "tensor([[7, 7],\n",
              "        [9, 0]])"
            ]
          },
          "metadata": {},
          "execution_count": 12
        }
      ]
    },
    {
      "cell_type": "code",
      "source": [
        "vector.ndim"
      ],
      "metadata": {
        "colab": {
          "base_uri": "https://localhost:8080/"
        },
        "id": "MrU_mXs9Ffx1",
        "outputId": "ce267b26-7381-4ad8-effb-f61b8081013d"
      },
      "execution_count": null,
      "outputs": [
        {
          "output_type": "execute_result",
          "data": {
            "text/plain": [
              "2"
            ]
          },
          "metadata": {},
          "execution_count": 19
        }
      ]
    },
    {
      "cell_type": "code",
      "source": [
        "Matrix =torch.tensor([[7,8],\n",
        "                      [9,10]])"
      ],
      "metadata": {
        "id": "-Vz7Jymf7xXC"
      },
      "execution_count": null,
      "outputs": []
    },
    {
      "cell_type": "code",
      "source": [
        "#This returns the row number\n",
        "Matrix.ndim"
      ],
      "metadata": {
        "colab": {
          "base_uri": "https://localhost:8080/"
        },
        "id": "CgtUBDev7-GU",
        "outputId": "a7d88ab8-f301-4f4d-8aba-c585d83608f5"
      },
      "execution_count": null,
      "outputs": [
        {
          "output_type": "execute_result",
          "data": {
            "text/plain": [
              "2"
            ]
          },
          "metadata": {},
          "execution_count": 24
        }
      ]
    },
    {
      "cell_type": "code",
      "source": [
        "#This returns the total shape\n",
        "Matrix.shape"
      ],
      "metadata": {
        "id": "r1j1GL6q8JTM"
      },
      "execution_count": null,
      "outputs": []
    },
    {
      "cell_type": "code",
      "source": [
        "#tensor with random numbers\n",
        "random_tensor = torch.rand(3,4)\n",
        "random_tensor"
      ],
      "metadata": {
        "id": "5p9uxBrh-kTs",
        "colab": {
          "base_uri": "https://localhost:8080/"
        },
        "outputId": "3a75d89e-0758-429d-8e11-6d4e1fd7b2aa"
      },
      "execution_count": null,
      "outputs": [
        {
          "output_type": "execute_result",
          "data": {
            "text/plain": [
              "tensor([[0.5702, 0.5358, 0.6465, 0.3206],\n",
              "        [0.2928, 0.2504, 0.9597, 0.5551],\n",
              "        [0.4173, 0.8629, 0.2964, 0.7213]])"
            ]
          },
          "metadata": {},
          "execution_count": 31
        }
      ]
    },
    {
      "cell_type": "code",
      "source": [
        "#parameters required for tensors\n",
        "#1st the tensor itself\n",
        "#2nd the type of data that the tensor holds\n",
        "#3rd the device that the tensor is going to run on\n",
        "#   If one tensor lives on the gpu and the other tensor lives on the cpu then it would show error\n",
        "#4th to keep track of the gradients\n",
        "float_32_tensor= torch.tensor([3.0,6.0,9.0],\n",
        "                              dtype=torch.float16,\n",
        "                              device=None,\n",
        "                              requires_grad=False)\n",
        "\n",
        "float_32_tensor"
      ],
      "metadata": {
        "colab": {
          "base_uri": "https://localhost:8080/"
        },
        "id": "WscnUfPSFNSD",
        "outputId": "c958a878-b609-4b28-b1c5-675f93edf3a9"
      },
      "execution_count": null,
      "outputs": [
        {
          "output_type": "execute_result",
          "data": {
            "text/plain": [
              "tensor([3., 6., 9.], dtype=torch.float16)"
            ]
          },
          "metadata": {},
          "execution_count": 39
        }
      ]
    },
    {
      "cell_type": "code",
      "source": [
        "float_32_tensor.dtype"
      ],
      "metadata": {
        "colab": {
          "base_uri": "https://localhost:8080/"
        },
        "id": "NfzhsMh4HUA1",
        "outputId": "3b282d25-5ba8-4667-b4cf-08351b88b8d7"
      },
      "execution_count": null,
      "outputs": [
        {
          "output_type": "execute_result",
          "data": {
            "text/plain": [
              "torch.float32"
            ]
          },
          "metadata": {},
          "execution_count": 35
        }
      ]
    },
    {
      "cell_type": "code",
      "source": [
        "#change the tensor datatype\n",
        "float_16_tensor = float_32_tensor.type(torch.float16)\n",
        "float_16_tensor"
      ],
      "metadata": {
        "colab": {
          "base_uri": "https://localhost:8080/"
        },
        "id": "JYOIB54wHWVS",
        "outputId": "8e3cc3a7-d9a4-43ef-8cea-1f22f1d36e69"
      },
      "execution_count": null,
      "outputs": [
        {
          "output_type": "execute_result",
          "data": {
            "text/plain": [
              "tensor([3., 6., 9.], dtype=torch.float16)"
            ]
          },
          "metadata": {},
          "execution_count": 41
        }
      ]
    },
    {
      "cell_type": "code",
      "source": [
        "tensor_1 = torch.tensor([[1,2,3],\n",
        "                       [4,5,6]])\n",
        "\n",
        "tensor_2 = torch.tensor([[1,2,3],\n",
        "                       [4,5,6]])\n",
        "\n",
        "#this would give dimernsion errors\n",
        "# torch.matmul(tensor_1,tensor_2)\n",
        "\n",
        "#corrected code with corrected dimension with transpose for the multiplication\n",
        "#.T basically transposes the matrix\n",
        "torch.matmul(tensor_1,tensor_2.T)"
      ],
      "metadata": {
        "id": "aPUU0S6lIFmy",
        "colab": {
          "base_uri": "https://localhost:8080/"
        },
        "outputId": "aabaff17-62e0-49af-ab91-a3bf1c7d5d14"
      },
      "execution_count": 46,
      "outputs": [
        {
          "output_type": "execute_result",
          "data": {
            "text/plain": [
              "tensor([[14, 32],\n",
              "        [32, 77]])"
            ]
          },
          "metadata": {},
          "execution_count": 46
        }
      ]
    },
    {
      "cell_type": "code",
      "source": [
        "x=torch.arange(1.0,10.0)\n",
        "x,x.shape\n",
        "\n",
        "#the following line would give an error because the input numebrs are incompatible with the shape I am asking\n",
        "#so while reshaping it is important to use a shape that is compatible with the input\n",
        "# x_reshaped=x.reshape(1,7)\n",
        "x_reshaped=x.reshape(9,1)\n",
        "x_reshaped"
      ],
      "metadata": {
        "colab": {
          "base_uri": "https://localhost:8080/"
        },
        "id": "PVutioZQUBsq",
        "outputId": "1374f8cb-4978-4865-cd5c-3f51430e6205"
      },
      "execution_count": 51,
      "outputs": [
        {
          "output_type": "execute_result",
          "data": {
            "text/plain": [
              "tensor([[1.],\n",
              "        [2.],\n",
              "        [3.],\n",
              "        [4.],\n",
              "        [5.],\n",
              "        [6.],\n",
              "        [7.],\n",
              "        [8.],\n",
              "        [9.]])"
            ]
          },
          "metadata": {},
          "execution_count": 51
        }
      ]
    },
    {
      "cell_type": "code",
      "source": [
        "#view does almost the same as reshape but\n",
        "#while reshape copies the things into new memory location but\n",
        "#view shares the same memory location\n",
        "z=x.view(1,9)\n",
        "z\n",
        "z[:,0]=5\n",
        "x"
      ],
      "metadata": {
        "colab": {
          "base_uri": "https://localhost:8080/"
        },
        "id": "E1i9CFN3UIm1",
        "outputId": "470b4262-ab71-48e4-f725-c2419ea434ff"
      },
      "execution_count": 55,
      "outputs": [
        {
          "output_type": "execute_result",
          "data": {
            "text/plain": [
              "tensor([5., 2., 3., 4., 5., 6., 7., 8., 9.])"
            ]
          },
          "metadata": {},
          "execution_count": 55
        }
      ]
    },
    {
      "cell_type": "code",
      "source": [],
      "metadata": {
        "id": "g9yXDKd-VfiX"
      },
      "execution_count": null,
      "outputs": []
    }
  ]
}